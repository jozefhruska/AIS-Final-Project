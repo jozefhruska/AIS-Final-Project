{
 "cells": [
  {
   "cell_type": "code",
   "execution_count": 31,
   "metadata": {
    "collapsed": true
   },
   "outputs": [],
   "source": [
    "from networkx.generators import gaussian_random_partition_graph\n",
    "import random\n",
    "import csv"
   ]
  },
  {
   "cell_type": "code",
   "execution_count": 32,
   "outputs": [],
   "source": [
    "# Number of nodes\n",
    "nodes_count = 1000\n",
    "\n",
    "# Mean cluster size\n",
    "cluster_size = 50\n",
    "\n",
    "# Shape parameter\n",
    "v = 50\n",
    "\n",
    "# Probability of intra cluster connection\n",
    "p_in = 0.25\n",
    "\n",
    "# Probability of inter cluster connection\n",
    "p_out = 0.2\n",
    "\n",
    "# Set of available opinions\n",
    "#opinions = ['A', 'B', 'C', 'D', 'E', 'F']\n",
    "opinions = ['A', 'B', 'C', 'D', 'E', 'F']"
   ],
   "metadata": {
    "collapsed": false
   }
  },
  {
   "cell_type": "markdown",
   "source": [],
   "metadata": {
    "collapsed": false
   }
  },
  {
   "cell_type": "code",
   "execution_count": 33,
   "outputs": [],
   "source": [
    "# Generate graph\n",
    "graph = gaussian_random_partition_graph(nodes_count, cluster_size, v, p_in, p_out)\n",
    "\n",
    "# Save the graph definition file\n",
    "with open(\"./04/graph.csv\", 'w+') as file:\n",
    "  writer = csv.writer(file, delimiter=\" \")\n",
    "  writer.writerows(graph.edges)\n",
    "\n",
    "# Save the state file\n",
    "with open(\"./04/state.csv\", 'w+') as file:\n",
    "  writer = csv.writer(file, delimiter=\" \")\n",
    "  for key in graph.nodes:\n",
    "    if graph.has_node(key):\n",
    "      writer.writerow((key, random.choice(opinions)))"
   ],
   "metadata": {
    "collapsed": false
   }
  },
  {
   "cell_type": "code",
   "execution_count": 33,
   "outputs": [],
   "source": [],
   "metadata": {
    "collapsed": false
   }
  }
 ],
 "metadata": {
  "kernelspec": {
   "display_name": "Python 3",
   "language": "python",
   "name": "python3"
  },
  "language_info": {
   "codemirror_mode": {
    "name": "ipython",
    "version": 2
   },
   "file_extension": ".py",
   "mimetype": "text/x-python",
   "name": "python",
   "nbconvert_exporter": "python",
   "pygments_lexer": "ipython2",
   "version": "2.7.6"
  }
 },
 "nbformat": 4,
 "nbformat_minor": 0
}
